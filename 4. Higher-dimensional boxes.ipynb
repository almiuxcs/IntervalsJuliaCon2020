{
 "cells": [
  {
   "cell_type": "markdown",
   "metadata": {},
   "source": [
    "# 4. Higher-dimensional boxes"
   ]
  },
  {
   "cell_type": "code",
   "execution_count": null,
   "metadata": {},
   "outputs": [],
   "source": [
    "using IntervalArithmetic"
   ]
  },
  {
   "cell_type": "markdown",
   "metadata": {},
   "source": [
    "We can approximate general sets in 1D using finite unions of intervals.\n",
    "The equivalent in higher dimensions is to use a union of **boxes**.\n",
    "\n",
    "An $n$-dimensional **(interval) box** is a Cartesian product $X_1 \\times X_2 \\times \\cdots \\times X_n$ of intervals $X_i$.\n"
   ]
  },
  {
   "cell_type": "markdown",
   "metadata": {},
   "source": [
    "Computationally, an $n$-dimensional box is just a vector of $n$ intervals. For performance we need to use fixed-size arrays from the `StaticArrays.jl` package. In `IntervalArithmetic.jl` these are wrapped into the `IntervalBox` type.\n",
    "\n",
    "We can construct an `IntervalBox` in `IntervalArithmetic.jl` in a couple of ways:"
   ]
  },
  {
   "cell_type": "code",
   "execution_count": null,
   "metadata": {},
   "outputs": [],
   "source": [
    "IntervalBox(1..2, 3..4)"
   ]
  },
  {
   "cell_type": "code",
   "execution_count": null,
   "metadata": {},
   "outputs": [],
   "source": [
    "(1..2) × (3..4)   # \\times<TAB>"
   ]
  },
  {
   "cell_type": "code",
   "execution_count": null,
   "metadata": {},
   "outputs": [],
   "source": [
    "X = IntervalBox(1..2, 4)  # second argument is the number of dimensions"
   ]
  },
  {
   "cell_type": "code",
   "execution_count": null,
   "metadata": {},
   "outputs": [],
   "source": [
    "typeof(X)"
   ]
  },
  {
   "cell_type": "markdown",
   "metadata": {},
   "source": [
    "## Multidimensional functions"
   ]
  },
  {
   "cell_type": "markdown",
   "metadata": {},
   "source": [
    "Evaluating a multidimensional scalar-valued function over a box is as simple as "
   ]
  },
  {
   "cell_type": "code",
   "execution_count": null,
   "metadata": {},
   "outputs": [],
   "source": [
    "f( (x, y) ) = x^2 + y"
   ]
  },
  {
   "cell_type": "code",
   "execution_count": null,
   "metadata": {},
   "outputs": [],
   "source": [
    "X = (-1..1) × (-2..2)"
   ]
  },
  {
   "cell_type": "code",
   "execution_count": null,
   "metadata": {},
   "outputs": [],
   "source": [
    "f(X)"
   ]
  },
  {
   "cell_type": "markdown",
   "metadata": {},
   "source": [
    "If the function is vector-valued, for performance reasons it is advisable to return an `SVector` from the `StaticArrays.jl` package:"
   ]
  },
  {
   "cell_type": "code",
   "execution_count": null,
   "metadata": {},
   "outputs": [],
   "source": [
    "using StaticArrays"
   ]
  },
  {
   "cell_type": "code",
   "execution_count": null,
   "metadata": {},
   "outputs": [],
   "source": [
    "g( (x, y) ) = SVector(x^2 + y, x - y)"
   ]
  },
  {
   "cell_type": "code",
   "execution_count": null,
   "metadata": {},
   "outputs": [],
   "source": [
    "g(X)"
   ]
  },
  {
   "cell_type": "markdown",
   "metadata": {},
   "source": [
    "An alternative is to return an `IntervalBox`, but this makes the function less generic, for example if you wish to mix evaluating the same function at floating-point vectors and `IntervalBox`es."
   ]
  },
  {
   "cell_type": "markdown",
   "metadata": {},
   "source": [
    "## Plotting `IntervalBox`es"
   ]
  },
  {
   "cell_type": "markdown",
   "metadata": {},
   "source": [
    "As we mentioned previously, using the `Plots.jl` package we can plot `IntervalBox`es:"
   ]
  },
  {
   "cell_type": "code",
   "execution_count": null,
   "metadata": {},
   "outputs": [],
   "source": [
    "X = (1..2) × (3..4)"
   ]
  },
  {
   "cell_type": "code",
   "execution_count": null,
   "metadata": {},
   "outputs": [],
   "source": [
    "using Plots"
   ]
  },
  {
   "cell_type": "code",
   "execution_count": null,
   "metadata": {},
   "outputs": [],
   "source": [
    "plot(X, alpha=0.3, c=:red, ratio=1, xlim=(0, 5), ylim=(0, 5))"
   ]
  },
  {
   "cell_type": "markdown",
   "metadata": {},
   "source": [
    "#### Exercise"
   ]
  },
  {
   "cell_type": "markdown",
   "metadata": {},
   "source": [
    "1. Draw (an over-approximation of) the image of the unit square under the Hénon map\n",
    "\n",
    "    $$(x, y) \\mapsto (1 - ax^2 + y, bx)$$\n",
    "\n",
    "    for $a = 1.4$ and $b = 0.3$\n",
    "\n",
    "    by using boxes."
   ]
  },
  {
   "cell_type": "code",
   "execution_count": null,
   "metadata": {},
   "outputs": [],
   "source": []
  },
  {
   "cell_type": "markdown",
   "metadata": {},
   "source": [
    "## Set inversion"
   ]
  },
  {
   "cell_type": "markdown",
   "metadata": {},
   "source": [
    "By using enough boxes of a small enough size we can approximate any given (finite) set.\n",
    "\n",
    "As an example, consider the problem of finding the set in the plane given by $S := \\{(x, y) \\in \\mathbb{R}^2: 1 \\le x^2 + y^2 \\le 2 \\}$.  This can be written as $f^{-1}([1, 2])$, with $f(x, y) := x^2 + y^2$, so corresponds to a **set inversion** problem."
   ]
  },
  {
   "cell_type": "markdown",
   "metadata": {},
   "source": [
    "Suppose we have an initial box"
   ]
  },
  {
   "cell_type": "code",
   "execution_count": null,
   "metadata": {},
   "outputs": [],
   "source": [
    "X = IntervalBox(-5..5, 2)"
   ]
  },
  {
   "cell_type": "markdown",
   "metadata": {},
   "source": [
    "We would like to find the subset of $X$ that definitely lies *inside* $S$ and a subset that definitely lies *outside* $S$. We will do so by splitting up $X$ into pieces. The simplest way to try to do this is by mincing each direction of $X$ again. (Soon we will see a more sophisticated method.)\n",
    "\n",
    "We will have to restrict ourselves to sets with a certain minimum size, so there will also be boxes that we cannot prove to be either inside or outside."
   ]
  },
  {
   "cell_type": "markdown",
   "metadata": {},
   "source": [
    "#### Exercise"
   ]
  },
  {
   "cell_type": "markdown",
   "metadata": {},
   "source": [
    "1. Write a function to do carry out set inversion. \n",
    "\n",
    "\n",
    "2. Apply it to the above set-inversion problem and visualize the result."
   ]
  },
  {
   "cell_type": "markdown",
   "metadata": {},
   "source": []
  }
 ],
 "metadata": {
  "kernelspec": {
   "display_name": "Julia 1.5.0-beta1",
   "language": "julia",
   "name": "julia-1.5"
  },
  "language_info": {
   "file_extension": ".jl",
   "mimetype": "application/julia",
   "name": "julia",
   "version": "1.5.0"
  }
 },
 "nbformat": 4,
 "nbformat_minor": 4
}
