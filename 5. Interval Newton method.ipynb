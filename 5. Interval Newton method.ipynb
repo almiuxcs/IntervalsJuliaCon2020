{
 "cells": [
  {
   "cell_type": "markdown",
   "metadata": {},
   "source": [
    "# 5. Interval Newton method"
   ]
  },
  {
   "cell_type": "markdown",
   "metadata": {},
   "source": [
    "Let's go back to thinking about solving equations, i.e. finding *roots* of functions.\n",
    "\n",
    "In standard (i.e. non-interval) numerical analysis, the [**Newton** (or Newton--Raphson) method] is a powerful method for (sometimes) finding roots, given by the iterative method\n",
    "\n",
    "$$x_{n+1} = x_n - \\frac{f(x_n)}{f'(x_n)}.$$\n",
    "\n",
    "This has the geometric interpretation of starting from $(x_n, 0)$, moving vertically until you hit the graph of $f$, then following the **tangent line** at the point $(x_n, f(x_n))$ until it intersects the $x$-axis, which gives the new approximation."
   ]
  },
  {
   "cell_type": "markdown",
   "metadata": {},
   "source": [
    "If the initial condition is close enough to a root, then then algorithm converges very fast. *But* it is often very difficult to know when you are \"close enough\". If you don't start close enough then the algorithm can diverge, oscillate, behave chaotically, etc.\n",
    "\n",
    "Furthermore, if we would like to find *all* the roots of a given function in a given interval, we are out of luck: we can never know (for a general function) whether there are or are not more roots available."
   ]
  },
  {
   "cell_type": "markdown",
   "metadata": {},
   "source": [
    "Interval methods provide a solution to these problems, providing a method that in principle can find and verify\n",
    "all simple roots of a function in a box."
   ]
  },
  {
   "cell_type": "markdown",
   "metadata": {},
   "source": [
    "## Interval Newton method"
   ]
  },
  {
   "cell_type": "code",
   "execution_count": null,
   "metadata": {},
   "outputs": [],
   "source": [
    "using IntervalArithmetic, ForwardDiff"
   ]
  },
  {
   "cell_type": "markdown",
   "metadata": {},
   "source": [
    "The interval Newton method is an apparently simple modification of the standard Newton method, but which has superpowers! When correctly implemented, it *guarantees* not to miss any roots, and to home in on the roots that are present at a certain speed in 1D. In higher dimensions there similar guarantees."
   ]
  },
  {
   "cell_type": "markdown",
   "metadata": {},
   "source": [
    "We do *not* just run the above algorithm using intervals; this will lead to intervals that grow over time and give useless results. Rather we must refine the algorithm to take *advantage* of the fact that we have information over a whole set."
   ]
  },
  {
   "cell_type": "markdown",
   "metadata": {},
   "source": [
    "Suppose we start with an initial interval $X_0$; this is the interval in which we wish to find roots of $f$. \n",
    "\n",
    "We will partially mimic the standard Newton method by picking a *single* point in the interval to start from; a standard, but not obligatory, choice is the midpoint $m := \\text{mid}(X)$, sometimes denoted $\\check{X}$.\n",
    "\n",
    "We move up to the graph at $(m, f(m))$. But now instead of picking the tangent line, we pick *all possible directions simultaneously*, where the direction is determined by *a possible value of the derivative $f'(x)$*.\n",
    "An operational version of this is:"
   ]
  },
  {
   "cell_type": "markdown",
   "metadata": {},
   "source": [
    "$$N_f(X) := m(X) - \\frac{f(m(X))}{f'(X)}$$"
   ]
  },
  {
   "cell_type": "markdown",
   "metadata": {},
   "source": [
    "Note that we are calculating an enclosure of the derivative over the *whole* interval; this will contain all possible derivatives over the interval. \n",
    "\n",
    "It turns out that the mean-value theorem now tells us that *any root of $f$ must be hit by one of these sloped lines*. Note that intervals are enabling us to make the mean-value theorem into a *constructive* method.\n",
    "\n",
    "[Technical note: To bound rounding errors, $m(X)$ must be treated as an interval with 0 width when calculating $f(m)$.]"
   ]
  },
  {
   "cell_type": "markdown",
   "metadata": {},
   "source": [
    "## Using the interval Newton operator"
   ]
  },
  {
   "cell_type": "markdown",
   "metadata": {},
   "source": [
    "The following two theorems can be shown:"
   ]
  },
  {
   "cell_type": "markdown",
   "metadata": {},
   "source": [
    "- If $N_f(X) \\subset X$ then there is a unique zero of $f$ in $X$ (by a contraction argument).\n",
    "\n",
    "- If $N_f(X) \\cap X = \\emptyset$ then there are no roots of $f$ in $X$ (by the above argument using the mean-value theorem)."
   ]
  },
  {
   "cell_type": "markdown",
   "metadata": {},
   "source": [
    "#### Exercise\n",
    "\n",
    "1. Implement this and try some examples.\n",
    "\n",
    "\n",
    "2. Once you have found a box $X$ in which you have located a root, iterate the Newton operator (i.e. apply it repeatedly) to that box. It will shrink down quadratically fast to a tiny interval containing the root!"
   ]
  },
  {
   "cell_type": "markdown",
   "metadata": {},
   "source": [
    "## Division by zero"
   ]
  },
  {
   "cell_type": "markdown",
   "metadata": {},
   "source": [
    "Often, $f'$ will hit zero somewhere in $X$. In this case the division seems not to make any sense, or will return $[-\\infty, \\infty]$.\n",
    "\n",
    "But in fact there will always be a region which is excluded from $f'(X)$ near $\\pm \\infty$, which will lead to an excluded region around $0$ in $1 / f'(X)$. We cannot represent this with a single interval, but we can using the union of *two* intervals."
   ]
  },
  {
   "cell_type": "markdown",
   "metadata": {},
   "source": [
    "#### Exercise\n",
    "\n",
    "1. Implement this \"extended division\"."
   ]
  },
  {
   "cell_type": "markdown",
   "metadata": {},
   "source": [
    "## Higher dimensions"
   ]
  },
  {
   "cell_type": "markdown",
   "metadata": {},
   "source": [
    "The Newton interval method extends to functions $f: \\mathbb{R}^n \\to \\mathbb{R}^n$, but now the derivative becomes the Jacobian matrix $\\mathsf{J}$, and we replace $1 / f'(X)$ with the matrix inverse, giving"
   ]
  },
  {
   "cell_type": "markdown",
   "metadata": {},
   "source": [
    "$$N_f(X) := m(X) - \\mathsf{J}(m(X))^{-1} f(m(X))$$\n",
    "\n",
    "The same theorem holds as stated for 1D above on the uniqueness or absence of roots in a given box!"
   ]
  },
  {
   "cell_type": "markdown",
   "metadata": {},
   "source": [
    "To calculate this numerically we use Julia's `\\` operator from the `LinearAlgebra` standard library to solve the  linear system of interval equations. This will give as an over-approximation of the result.\n",
    "\n",
    "[This usually works, but we have had some issues, in particular when using `StaticArrays.jl`. We are still trying to iron this out. There are many techniques to solve linear systems of interval equations.]"
   ]
  },
  {
   "cell_type": "markdown",
   "metadata": {},
   "source": [
    "#### Exercise"
   ]
  },
  {
   "cell_type": "markdown",
   "metadata": {},
   "source": [
    "1. Implement this. Use it to locate a root of\n",
    "\n",
    "    $g(x, y) = (x^2 + y^2 - 1, x + y)$.\n",
    "    \n",
    "    Hint: You will need to start close enough to a root."
   ]
  },
  {
   "cell_type": "code",
   "execution_count": null,
   "metadata": {},
   "outputs": [],
   "source": []
  }
 ],
 "metadata": {
  "kernelspec": {
   "display_name": "Julia 1.5.0-beta1",
   "language": "julia",
   "name": "julia-1.5"
  },
  "language_info": {
   "file_extension": ".jl",
   "mimetype": "application/julia",
   "name": "julia",
   "version": "1.5.0"
  }
 },
 "nbformat": 4,
 "nbformat_minor": 4
}
