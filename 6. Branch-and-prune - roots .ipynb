{
 "cells": [
  {
   "cell_type": "markdown",
   "metadata": {},
   "source": [
    "# Branch-and-prune: roots and constraints"
   ]
  },
  {
   "cell_type": "markdown",
   "metadata": {},
   "source": [
    "Let's go back to the problem of root finding.\n",
    "How can we find *all* the roots of a function $f$ over an interval or box $X$ in a guaranteed way?\n",
    "\n",
    "Standard numerical methods are unable to do this for general functions. [There are methods for polynomials, but they are tricky do implement. [Homotopy continuation](https://www.juliahomotopycontinuation.org) is a particularly powerful technique.]\n",
    "\n",
    "The combination of working with sets and having Newton-type techniques for verifying (certifying) existence and uniqueness of a simple root in a box allows interval methods to calculate and verify all simple roots."
   ]
  },
  {
   "cell_type": "markdown",
   "metadata": {},
   "source": [
    "## Branch and prune"
   ]
  },
  {
   "cell_type": "markdown",
   "metadata": {},
   "source": [
    "If we wish to locate all of the roots inside a box, we somehow have to *break up* the whole of $X$ into small enough *pieces* $X_i$, such that in each piece we can either:\n",
    "\n",
    "- Exclude $X_i$ (show there is no root there)\n",
    "- Prove existence and uniqueness of a root in $X_i$; or\n",
    "- Give up and say that we don't know"
   ]
  },
  {
   "cell_type": "markdown",
   "metadata": {},
   "source": [
    "In notebook 4 we saw one way to do this to characterize the sets that do or don't satisfy a **constraint** (inequality): Split up $X$ into tiny boxes of a uniform size. \n",
    "\n",
    "Is it possible to improve on that method? We expect neighbouring regions of space to usually \"behave the same\", so we are doing a lot of unnecessary calculations. In particular when discarding / excluding regions, we want those regions to be as *large* as possible."
   ]
  },
  {
   "cell_type": "markdown",
   "metadata": {},
   "source": [
    "### Branching: Bisection\n",
    "\n",
    "Let's start with the whole of $X$. It is possible that we can exclude the whole of $X$ in one go if $f(X)$ does not contain $0$. \n",
    "\n",
    "If $0 \\in f(X)$ then as usual we cannot say anything, so let us **bisect** $X$ in that case. The simplest method to bisect a box is to choose the largest dimension and split $X$ in half along that direction. [More sophisticated strategies, such as the **smear heuristic**, which checks which direction is expanded most by $f$, may be superior.]"
   ]
  },
  {
   "cell_type": "markdown",
   "metadata": {},
   "source": [
    "### Pruning: Exclusion\n",
    "\n",
    "Once we have bisected, we check each sub-box to see if either can be excluded (or if we can prove that there is a unique root). If it can be excluded we **prune** it, i.e. remove it from consideration."
   ]
  },
  {
   "cell_type": "markdown",
   "metadata": {},
   "source": [
    "We repeat these bisection and pruning steps until we reach boxes whose size is some predefined tolerance."
   ]
  },
  {
   "cell_type": "markdown",
   "metadata": {},
   "source": [
    "Note that this same technique works for the set inversion problem we saw earlier. Indeed, the condition $f(x) = 0$ for finding a root is special case of an inequality (constraint)."
   ]
  },
  {
   "cell_type": "markdown",
   "metadata": {},
   "source": [
    "## Regular pavings"
   ]
  },
  {
   "cell_type": "markdown",
   "metadata": {},
   "source": [
    "We end up with a collection of boxes, which are usually *not* of a uniform size. This is called a **regular paving**: we have \"paved\" (covered) the set of interest.\n",
    "\n",
    "In fact, if we keep track of which boxes give rise to which child boxes, we end up building a **binary tree**. It is then possible at the end of the process to unify boxes again to reduce the complexity."
   ]
  },
  {
   "cell_type": "markdown",
   "metadata": {},
   "source": [
    "## Implementation"
   ]
  },
  {
   "cell_type": "markdown",
   "metadata": {},
   "source": [
    "To implement a branch-and-prune algorithm we need to keep track of the boxes that are produced along the way in some kind of data structure. \n",
    "\n",
    "A simple way to do this is to have a working vector of boxes. We take a box, say from the start or the end of the vector, that we will work on next. After bisecting, we push the new boxes back onto that working vector. When the working vector is empty, we are done."
   ]
  },
  {
   "cell_type": "markdown",
   "metadata": {},
   "source": [
    "#### Exercise\n",
    "1. Implement this working vector method. You should impose a minimum tolerance. \n",
    "You can use the `diam` function to \n",
    "\n",
    "\n",
    "2. Use this to locate all roots of $f(x) = x^2 - 2$ and $g(x, y) = (x^2 + y^2 - 1, x + y)$.\n",
    "\n",
    "\n",
    "\n",
    "3. Add in a check using the Newton method to distinguish those boxes where they *may* be a root from those where there *definitely is* a root."
   ]
  },
  {
   "cell_type": "code",
   "execution_count": null,
   "metadata": {},
   "outputs": [],
   "source": []
  },
  {
   "cell_type": "markdown",
   "metadata": {},
   "source": [
    "## Software"
   ]
  },
  {
   "cell_type": "markdown",
   "metadata": {},
   "source": [
    "The [`IntervalRootFinding.jl`](https://github.com/JuliaIntervals/IntervalRootFinding.jl) package has a careful and reasonably comprehensive implementation of these algorithms. Currently it returns a list of `Root` objects, containing an interval or box, together with a symbolic label indicating whether a unique root was proved to be contained inside the box or not. \n",
    "\n",
    "Here are some examples:"
   ]
  },
  {
   "cell_type": "code",
   "execution_count": null,
   "metadata": {},
   "outputs": [],
   "source": [
    "using IntervalRootFinding, IntervalArithmetic"
   ]
  },
  {
   "cell_type": "code",
   "execution_count": null,
   "metadata": {},
   "outputs": [],
   "source": [
    "rts = roots(x -> x^2 - 2, -10..10)"
   ]
  },
  {
   "cell_type": "markdown",
   "metadata": {},
   "source": [
    "This proves that there are 2 unique roots in the interval $[-10, 10]$ for the given function. You can extract the intervals with"
   ]
  },
  {
   "cell_type": "code",
   "execution_count": null,
   "metadata": {},
   "outputs": [],
   "source": [
    "interval.(rts)"
   ]
  },
  {
   "cell_type": "markdown",
   "metadata": {},
   "source": [
    "and the statuses with"
   ]
  },
  {
   "cell_type": "code",
   "execution_count": null,
   "metadata": {},
   "outputs": [],
   "source": [
    "root_status.(rts)"
   ]
  },
  {
   "cell_type": "markdown",
   "metadata": {},
   "source": [
    "In some cases it is possible to do this over the *whole real line*:"
   ]
  },
  {
   "cell_type": "code",
   "execution_count": null,
   "metadata": {},
   "outputs": [],
   "source": [
    " rts = roots(x -> x^2 - 2, -∞..∞)   # \\infty<TAB>"
   ]
  },
  {
   "cell_type": "markdown",
   "metadata": {},
   "source": [
    "This is possible since it can exclude the regions \"at infinity\", as we saw in notebook 2."
   ]
  },
  {
   "cell_type": "markdown",
   "metadata": {},
   "source": [
    "The roots are located in intervals of width"
   ]
  },
  {
   "cell_type": "code",
   "execution_count": null,
   "metadata": {},
   "outputs": [],
   "source": [
    "diam.(interval.(rts))"
   ]
  },
  {
   "cell_type": "markdown",
   "metadata": {},
   "source": [
    "We can modify the tolerance to get more precise results:"
   ]
  },
  {
   "cell_type": "code",
   "execution_count": null,
   "metadata": {},
   "outputs": [],
   "source": [
    " rts = roots(x -> x^2 - 2, -∞..∞, Newton, 1e-10)   # \\infty<TAB>"
   ]
  },
  {
   "cell_type": "code",
   "execution_count": null,
   "metadata": {},
   "outputs": [],
   "source": [
    "diam.(interval.(rts))"
   ]
  },
  {
   "cell_type": "markdown",
   "metadata": {},
   "source": [
    "And we can use `BigFloat`s to refine the results:"
   ]
  },
  {
   "cell_type": "code",
   "execution_count": null,
   "metadata": {},
   "outputs": [],
   "source": [
    " rts2 = roots(x -> x^2 - 2, big.(rts), Newton, 1e-50)   # \\infty<TAB>"
   ]
  },
  {
   "cell_type": "code",
   "execution_count": null,
   "metadata": {},
   "outputs": [],
   "source": [
    "diam.(interval.(rts2))"
   ]
  },
  {
   "cell_type": "markdown",
   "metadata": {},
   "source": [
    "The ability to use infinite intervals depends on the function; for example, the following currently hangs (which should be fixed) since it is unable to exclude regions at infinity:"
   ]
  },
  {
   "cell_type": "code",
   "execution_count": null,
   "metadata": {},
   "outputs": [],
   "source": [
    " # rts = roots(x -> x^2 - 2x, -∞..∞)   # HANGS!"
   ]
  },
  {
   "cell_type": "markdown",
   "metadata": {},
   "source": [
    "It is not clear (to me) how to robustly exclude regions at infinity, especially for functions in more dimensions."
   ]
  },
  {
   "cell_type": "markdown",
   "metadata": {},
   "source": [
    "What happens for complicated functions? For example, $x \\mapsto \\sin(1/x)$ has an *infinite* number of roots converging to $0$:"
   ]
  },
  {
   "cell_type": "code",
   "execution_count": null,
   "metadata": {},
   "outputs": [],
   "source": [
    "f(x) = sin(1 / x)\n",
    "\n",
    "rts = roots(f, 0..1)"
   ]
  },
  {
   "cell_type": "markdown",
   "metadata": {},
   "source": [
    "Let's plot the function and the roots that it has isolated:"
   ]
  },
  {
   "cell_type": "code",
   "execution_count": null,
   "metadata": {},
   "outputs": [],
   "source": [
    "using Plots"
   ]
  },
  {
   "cell_type": "code",
   "execution_count": null,
   "metadata": {},
   "outputs": [],
   "source": [
    "unique_roots = interval.(rts)[isunique.(rts)];\n",
    "\n",
    "length(unique_roots)"
   ]
  },
  {
   "cell_type": "code",
   "execution_count": null,
   "metadata": {},
   "outputs": [],
   "source": [
    "plot(x -> sin(1/x), 0, 1)\n",
    "scatter!(mid.(unique_roots), zero)"
   ]
  },
  {
   "cell_type": "markdown",
   "metadata": {},
   "source": [
    "The region where no unique roots are found:"
   ]
  },
  {
   "cell_type": "code",
   "execution_count": null,
   "metadata": {},
   "outputs": [],
   "source": [
    "non_unique = rts[(!isunique).(rts)]\n",
    "\n",
    "reduce(∪, interval.(non_unique))"
   ]
  },
  {
   "cell_type": "markdown",
   "metadata": {},
   "source": [
    "We can increase the number of roots found by decreasing the tolerance:"
   ]
  },
  {
   "cell_type": "markdown",
   "metadata": {},
   "source": [
    "## Multi-dimensional functions"
   ]
  },
  {
   "cell_type": "markdown",
   "metadata": {},
   "source": [
    "The `roots` function can also be used to find roots in higher dimensions.\n"
   ]
  },
  {
   "cell_type": "markdown",
   "metadata": {},
   "source": [
    "#### Exercise\n",
    "\n",
    "Find all the roots of the following function taken from the [NLSolve.jl](https://github.com/JuliaNLSolvers/NLsolve.jl) README in the box $[-5, 5]^2$.\n",
    "\n",
    "$$g(x, y) = ( (x+3)(y^3-7)+18, \\sin(y \\exp(x)-1))$$\n",
    "\n",
    "Plot the zero level sets of the component functions and plot the roots. How many are there?"
   ]
  },
  {
   "cell_type": "markdown",
   "metadata": {},
   "source": [
    "## Iteration interface\n",
    "\n",
    "`IntervalRootFinding.jl` has a sophisticated iteration interface, thanks to Benoît Richard.\n",
    "This allows you to have fine control over the iteration process through the tree;\n",
    "see the docs for more details."
   ]
  }
 ],
 "metadata": {
  "kernelspec": {
   "display_name": "Julia 1.5.0-beta1",
   "language": "julia",
   "name": "julia-1.5"
  },
  "language_info": {
   "file_extension": ".jl",
   "mimetype": "application/julia",
   "name": "julia",
   "version": "1.5.0"
  }
 },
 "nbformat": 4,
 "nbformat_minor": 4
}
