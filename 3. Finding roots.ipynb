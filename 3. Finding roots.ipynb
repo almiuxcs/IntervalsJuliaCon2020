{
 "cells": [
  {
   "cell_type": "markdown",
   "metadata": {},
   "source": [
    "# 3. Finding roots"
   ]
  },
  {
   "cell_type": "code",
   "execution_count": null,
   "metadata": {},
   "outputs": [],
   "source": [
    "using IntervalArithmetic"
   ]
  },
  {
   "cell_type": "markdown",
   "metadata": {},
   "source": [
    "We now know how to calculate an enclosure of the range of a function $f$ over an interval $X$: we evaluate $f(X)$ using interval arithmetic.\n",
    "\n",
    "How can we use this to do something useful?\n",
    "\n",
    "One key question that crops up all the time in scientific computing is finding the **roots** or **zeros** of a function $f$, i.e. the special values $x = x^*$ such that $f(x^*) = 0$. For example, to solve the equation $x = \\sin(x)$ we can rewrite this as $x - \\sin(x) = 0$, so that solutions of the equation correspond to roots of the function $f(x) = x - \\sin(x)$."
   ]
  },
  {
   "cell_type": "markdown",
   "metadata": {},
   "source": [
    "Let's start with a simple function:"
   ]
  },
  {
   "cell_type": "code",
   "execution_count": null,
   "metadata": {},
   "outputs": [],
   "source": [
    "f(x) = x^2 - 2"
   ]
  },
  {
   "cell_type": "code",
   "execution_count": null,
   "metadata": {},
   "outputs": [],
   "source": [
    "using Plots"
   ]
  },
  {
   "cell_type": "code",
   "execution_count": null,
   "metadata": {},
   "outputs": [],
   "source": [
    "plot(f, -3, 3, leg=false)\n",
    "hline!([0], ls=:dash)"
   ]
  },
  {
   "cell_type": "markdown",
   "metadata": {},
   "source": [
    "We see that there are two roots; we know from algebra that these are at $\\pm \\sqrt{2} \\simeq \\pm 1.414\\ldots$. How could we find those roots without prior knowledge?"
   ]
  },
  {
   "cell_type": "markdown",
   "metadata": {},
   "source": [
    "Let's start near the root, for example with the interval"
   ]
  },
  {
   "cell_type": "code",
   "execution_count": null,
   "metadata": {},
   "outputs": [],
   "source": [
    "X = 1..2"
   ]
  },
  {
   "cell_type": "markdown",
   "metadata": {},
   "source": [
    "We get"
   ]
  },
  {
   "cell_type": "code",
   "execution_count": null,
   "metadata": {},
   "outputs": [],
   "source": [
    "f(X)"
   ]
  },
  {
   "cell_type": "markdown",
   "metadata": {},
   "source": [
    "So $0$ is contained in $f(X)$. However, we *cannot* conclude anything from this, since this enclosure may be an *over*-estimate of the true range."
   ]
  },
  {
   "cell_type": "markdown",
   "metadata": {},
   "source": [
    "#### Exercise: "
   ]
  },
  {
   "cell_type": "markdown",
   "metadata": {},
   "source": [
    "Find a quadratic function that you know is $> 0$ everywhere, but which gives an interval containing $0$ when evaluated using interval arithmetic."
   ]
  },
  {
   "cell_type": "markdown",
   "metadata": {},
   "source": [
    "Now let's try a region away from the root:"
   ]
  },
  {
   "cell_type": "code",
   "execution_count": null,
   "metadata": {},
   "outputs": [],
   "source": [
    "X = 3..4"
   ]
  },
  {
   "cell_type": "markdown",
   "metadata": {},
   "source": [
    "This gives the range"
   ]
  },
  {
   "cell_type": "code",
   "execution_count": null,
   "metadata": {},
   "outputs": [],
   "source": [
    "f(X)"
   ]
  },
  {
   "cell_type": "markdown",
   "metadata": {},
   "source": [
    "So"
   ]
  },
  {
   "cell_type": "code",
   "execution_count": null,
   "metadata": {},
   "outputs": [],
   "source": [
    "0 ∈ f(X)    # type \\in<TAB>"
   ]
  },
  {
   "cell_type": "markdown",
   "metadata": {},
   "source": [
    "Can we conclude anything from this? We see that $0 \\notin f(X)$, so $0 \\in f(X)^c$, where $Y^c := \\mathbb{R} \\setminus Y$ denotes the set complement of $Y$. But $\\text{range}(f; X) \\subseteq f(X)$, and hence $f(X)^c \\subseteq \\text{range}(f; X)^c$. Thus $0 \\in \\text{range}(f; X)^c$, i.e. $0 \\notin \\text{range}(f; X)$.\n",
    "\n",
    "Hence we see that our numerical calculation with floating-point arithmetic gives a *mathematically rigorous guarantee* that there cannot be any roots of $f$ in the interval $X$. We call this *excluding* a root."
   ]
  },
  {
   "cell_type": "markdown",
   "metadata": {},
   "source": [
    "#### Exercise\n",
    "1. Experiment with different intervals to see how far you can exclude roots."
   ]
  },
  {
   "cell_type": "markdown",
   "metadata": {},
   "source": [
    "## Existence and uniqueness of a root"
   ]
  },
  {
   "cell_type": "markdown",
   "metadata": {},
   "source": [
    "So far we have found an **exclusion region**, where we have been able to show that $f$ has *no* roots. How could we prove that $f$ *does* have a root?\n",
    "\n",
    "In 1D there is a well-known test for this."
   ]
  },
  {
   "cell_type": "markdown",
   "metadata": {},
   "source": [
    "#### Exercise"
   ]
  },
  {
   "cell_type": "markdown",
   "metadata": {},
   "source": [
    "1. Recall from calculus (if you have taken it) that there is a theorem that guarantees that a 1D function crosses $0$. Which theorem is it and what are the conditions for it to be satisfied.\n",
    "\n",
    "\n",
    "2. However, this result could allow for there to be *many* roots in the given interval. What mathematical condition will guarantee that there is a *unique* root? How could we use this on the computer?"
   ]
  },
  {
   "cell_type": "code",
   "execution_count": null,
   "metadata": {},
   "outputs": [],
   "source": []
  },
  {
   "cell_type": "markdown",
   "metadata": {},
   "source": [
    "## Algorithmic differentiation"
   ]
  },
  {
   "cell_type": "markdown",
   "metadata": {},
   "source": [
    "In order to prove uniqueness of a root for a 1D function in a given interval $X$, we need to know that the function is **strictly monotone**, either increasing or decreasing. That is (assuming differentiability) we need to show that $f'(x) \\neq 0$ for all $x \\in X$, where $f'(x)$ is the derivative of $f$ at $x$.\n",
    "\n",
    "This is just the same problem as excluding roots: now we need to exclude roots of the function $f'$ on the interval $X$! The \"only\" difficulty, then, is how to calculate $f'$. \n",
    "\n",
    "Fortunately, the technique of **algorithm differentiation** (or **automatic differentiation**) provides the solution. We don't have time to go over how this technique works: we will just treat it as a **black box**, provided by a Julia package.\n",
    "\n",
    "There are several possible Julia packages that implement both forward- and reverse-mode algorithmic differentiation. We will use `ForwardDiff.jl`, which uses the algebra of **dual numbers**, $a + b \\epsilon$ with $\\epsilon^2 = 0$, to calculate *exact* derivatives numerically (up to floating-point round-off error)."
   ]
  },
  {
   "cell_type": "code",
   "execution_count": null,
   "metadata": {},
   "outputs": [],
   "source": [
    "using ForwardDiff"
   ]
  },
  {
   "cell_type": "markdown",
   "metadata": {},
   "source": [
    "For a Julia function `f` we can calculate its derivative at `x` using"
   ]
  },
  {
   "cell_type": "code",
   "execution_count": null,
   "metadata": {},
   "outputs": [],
   "source": [
    "f(x) = x^2 - 2\n",
    "x = 3.0\n",
    "\n",
    "ForwardDiff.derivative(f, x)    # should be 2x"
   ]
  },
  {
   "cell_type": "markdown",
   "metadata": {},
   "source": [
    "We can make a higher-order derivative function as follows:"
   ]
  },
  {
   "cell_type": "code",
   "execution_count": null,
   "metadata": {},
   "outputs": [],
   "source": [
    "derivative(f) = x -> ForwardDiff.derivative(f, x)  "
   ]
  },
  {
   "cell_type": "markdown",
   "metadata": {},
   "source": [
    "[It is possible to extend `'` to mean derivative, as is done e.g. in `ApproxFun.jl`.]"
   ]
  },
  {
   "cell_type": "markdown",
   "metadata": {},
   "source": [
    "The amazing thing is that we can now use `ForwardDiff` and pass in an *interval* for `x`. Due to the way that algorithmic differentiation works, and the fact that the package has been written in a very generic way, each internal calculation will now produce intervals with the enclosure property, *also* for the derivatives. The end result is:"
   ]
  },
  {
   "cell_type": "code",
   "execution_count": null,
   "metadata": {},
   "outputs": [],
   "source": [
    "ForwardDiff.derivative(f, 1..2)"
   ]
  },
  {
   "cell_type": "markdown",
   "metadata": {},
   "source": [
    "which is guaranteed to be an *enclosure* of $\\text{range}(f', X)$, the range of the derivative over $X$."
   ]
  },
  {
   "cell_type": "markdown",
   "metadata": {},
   "source": [
    "Since this interval is strictly positive, we have proved that $f$ is strictly increasing in that interval. \n",
    "Since it is also continuous and changes sign:"
   ]
  },
  {
   "cell_type": "code",
   "execution_count": null,
   "metadata": {},
   "outputs": [],
   "source": [
    "f(1), f(2)"
   ]
  },
  {
   "cell_type": "markdown",
   "metadata": {},
   "source": [
    "we have *proved* that there is a unique root of $f$ in $[1, 2]$!"
   ]
  },
  {
   "cell_type": "code",
   "execution_count": null,
   "metadata": {},
   "outputs": [],
   "source": []
  }
 ],
 "metadata": {
  "kernelspec": {
   "display_name": "Julia 1.5.0-beta1",
   "language": "julia",
   "name": "julia-1.5"
  },
  "language_info": {
   "file_extension": ".jl",
   "mimetype": "application/julia",
   "name": "julia",
   "version": "1.5.0"
  }
 },
 "nbformat": 4,
 "nbformat_minor": 4
}
