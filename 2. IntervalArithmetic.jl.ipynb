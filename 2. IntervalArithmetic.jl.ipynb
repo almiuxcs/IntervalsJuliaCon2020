{
 "cells": [
  {
   "cell_type": "markdown",
   "metadata": {},
   "source": [
    "## 2. The IntervalArithmetic.jl package"
   ]
  },
  {
   "cell_type": "markdown",
   "metadata": {},
   "source": [
    "Now that we have covered some basic ideas of interval arithmetic, you should be able, in principle, to implement each operation. But guaranteeing that the results are rounded correctly, getting all the corner cases right, with generic code, all while achieving high performance, is non-trivial.\n",
    "\n",
    "Together with Luis Benet (ICF-UNAM, Mexico) we have been developing the `IntervalArithmetic.jl` package since 2014. Within the next couple of months we expect it to be compliant with the IEEE-1788 Standard document, which specifies how interval arithmetic packages should behave. It passes a large, independently-developed test suite, ITF1788. \n",
    "\n",
    "In order to get to some of the interesting applications of these methods, we will now switch to using the `IntervalArithmetic.jl` package that we have been developing "
   ]
  },
  {
   "cell_type": "markdown",
   "metadata": {},
   "source": [
    "As usual, we install the package with"
   ]
  },
  {
   "cell_type": "code",
   "execution_count": null,
   "metadata": {},
   "outputs": [],
   "source": [
    "] add IntervalArithmetic"
   ]
  },
  {
   "cell_type": "markdown",
   "metadata": {},
   "source": [
    "and load it with"
   ]
  },
  {
   "cell_type": "code",
   "execution_count": null,
   "metadata": {},
   "outputs": [],
   "source": [
    "using IntervalArithmetic"
   ]
  },
  {
   "cell_type": "markdown",
   "metadata": {},
   "source": [
    "This is a complete implementation of interval arithmetic that is very fast for `Float64` intervals, but also allows other floating-point types, in particular `BigFloat` (which are slow, because `BigFloat`s are slow)."
   ]
  },
  {
   "cell_type": "markdown",
   "metadata": {},
   "source": [
    "The two main ways to create an interval are as follows:"
   ]
  },
  {
   "cell_type": "code",
   "execution_count": null,
   "metadata": {},
   "outputs": [],
   "source": [
    "X1 = interval(0.1, 0.3)  # note: lower-case `i`"
   ]
  },
  {
   "cell_type": "code",
   "execution_count": null,
   "metadata": {},
   "outputs": [],
   "source": [
    "X2 = 0.1..0.3    # .. operator"
   ]
  },
  {
   "cell_type": "markdown",
   "metadata": {},
   "source": [
    "Note that these give slightly different results: the `..` operator currently tries to be \"clever\" and guess \"what you really meant\": in this case you supposedly \"really meant\" the true real number 0.1, not the floating-point number `0.1`. However, we are strongly considering removing this perhaps-too-clever behaviour."
   ]
  },
  {
   "cell_type": "markdown",
   "metadata": {},
   "source": [
    "All the standard arithmetic and elementary functions have methods defined for intervals. For example:"
   ]
  },
  {
   "cell_type": "code",
   "execution_count": null,
   "metadata": {},
   "outputs": [],
   "source": [
    "X1 + X2"
   ]
  },
  {
   "cell_type": "markdown",
   "metadata": {},
   "source": [
    "This means that you can use standard Julia functions with intervals as follows:"
   ]
  },
  {
   "cell_type": "code",
   "execution_count": null,
   "metadata": {},
   "outputs": [],
   "source": [
    "f(x) = x^2 + 2x"
   ]
  },
  {
   "cell_type": "code",
   "execution_count": null,
   "metadata": {},
   "outputs": [],
   "source": [
    "X = -1..1"
   ]
  },
  {
   "cell_type": "code",
   "execution_count": null,
   "metadata": {},
   "outputs": [],
   "source": [
    "f(X)"
   ]
  },
  {
   "cell_type": "markdown",
   "metadata": {},
   "source": [
    "By the fundamental theorem of interval arithmetic, this result is guaranteed to be an enclosure of the true range of the function over the set. However, in this case, even for such an apparently simple function, it turns out to be an *over*-approximation."
   ]
  },
  {
   "cell_type": "markdown",
   "metadata": {},
   "source": [
    "#### Exercise"
   ]
  },
  {
   "cell_type": "markdown",
   "metadata": {},
   "source": [
    "1. Define functions `f1` and `f2` giving equivalent algebraic versions of the function (by factorising etc.). Do they give better or worse ranges? Can you find the exact range?"
   ]
  },
  {
   "cell_type": "markdown",
   "metadata": {},
   "source": [
    "## Set operations"
   ]
  },
  {
   "cell_type": "markdown",
   "metadata": {},
   "source": [
    "Since intervals are sets, it also makes sense to define standard set operations. Since this is Julia, we can *use the correct mathematical operators* for this!"
   ]
  },
  {
   "cell_type": "code",
   "execution_count": null,
   "metadata": {},
   "outputs": [],
   "source": [
    "(1..3) ∩ (2..4)"
   ]
  },
  {
   "cell_type": "markdown",
   "metadata": {},
   "source": [
    "This makes the code so nice to read and understandable."
   ]
  },
  {
   "cell_type": "markdown",
   "metadata": {},
   "source": [
    "#### Exercise"
   ]
  },
  {
   "cell_type": "markdown",
   "metadata": {},
   "source": [
    "How can you calculate the set difference of two intervals? What should it give you? What does it give you?"
   ]
  },
  {
   "cell_type": "markdown",
   "metadata": {},
   "source": [
    "## Kahan's example"
   ]
  },
  {
   "cell_type": "markdown",
   "metadata": {},
   "source": [
    "Let's go back to Kahan's example from the start of the last notebook."
   ]
  },
  {
   "cell_type": "code",
   "execution_count": null,
   "metadata": {},
   "outputs": [],
   "source": [
    "f(x) = (1/80) * log(abs(3*(1 - x) + 1)) + x^2 + 1"
   ]
  },
  {
   "cell_type": "markdown",
   "metadata": {},
   "source": [
    "Since all of these functions are defined for intervals, we can find an enclosure of the range of this function over a given input interval $X$ by just evaluating the function using that input interval:"
   ]
  },
  {
   "cell_type": "code",
   "execution_count": null,
   "metadata": {},
   "outputs": [],
   "source": [
    "f(1.0..1.2)"
   ]
  },
  {
   "cell_type": "markdown",
   "metadata": {},
   "source": [
    "Now let's try the key region:"
   ]
  },
  {
   "cell_type": "code",
   "execution_count": null,
   "metadata": {},
   "outputs": [],
   "source": [
    "f(1.3..1.4)"
   ]
  },
  {
   "cell_type": "markdown",
   "metadata": {},
   "source": [
    "We see that interval arithmetic manages what we were previously unable to do: It warns us that something weird *might* be happening in this interval. But note that since this is only guaranteed to be an *over*-approximation, it does not guarantee that the range actually goes all the way to $-\\infty$; that is something you can work out only by analytical means."
   ]
  },
  {
   "cell_type": "markdown",
   "metadata": {},
   "source": [
    "## Improving enclosures: Bounding functions"
   ]
  },
  {
   "cell_type": "markdown",
   "metadata": {},
   "source": [
    "How can we improve an *over*-estimate of a range? It turns out that we can decrease the amount of over-estimation by simply splitting up the initial interval into pieces. This is sometimes called **mincing** the interval."
   ]
  },
  {
   "cell_type": "markdown",
   "metadata": {},
   "source": [
    "#### Exercise\n",
    "\n",
    "1. Write a function `mymince` to split a given interval $X$ into $N$ equal-sized pieces.\n",
    "\n",
    "\n",
    "2. For the function $f(x) = x^2 + 2x$ visualize the input and output intervals.\n",
    "\n",
    "\n",
    "3. Make this into an interactive visualization with `Interact.jl` where you vary the number $N$ of sub-intervals.s\n",
    "\n",
    "\n",
    "4. Apply this to the Kahan function. You will need to check for infinity and cut off the result at a finite value."
   ]
  },
  {
   "cell_type": "markdown",
   "metadata": {},
   "source": [
    "## Application: Numerical integration"
   ]
  },
  {
   "cell_type": "markdown",
   "metadata": {},
   "source": [
    "A nice, simple application of interval arithmetic is to calculate integrals of functions numerically. For simplicity let's restrict ourselves to functions $f: \\mathbb{R} \\to \\mathbb{R}$, although in principal the same idea extends to higher dimensions."
   ]
  },
  {
   "cell_type": "markdown",
   "metadata": {},
   "source": [
    "Recall that the integral\n",
    "$$I := \\int_a^b f(x) \\, dx$$\n",
    "represents the set $A$ between the function $f$ and the $x$-axis between $a$ and $b$.\n",
    "    \n",
    "We can approximate this by splitting up the interval $[a, b]$ into pieces and using a set of rectangles of the right height. Which is the right height? Standard numerical methods take e.g. $f(m)$, where $m$ is the midpoint.\n",
    "\n",
    "Instead, having intervals at our disposal, we can *evaluate $f$ over the whole interval*! This will give us guaranteed lower and upper bounds for $f$ over that interval. Taking those lower and upper bounds gives two possible rectangles: one which is contained in $A$, and one which contains the part of $A$ that lies between $a$ and $b$.\n",
    "\n",
    "In other words, interval arithmetic immediately gives us Riemann lower and upper sums, and hence rigorous bounds for $I$!"
   ]
  },
  {
   "cell_type": "markdown",
   "metadata": {},
   "source": [
    "#### Exercise\n",
    "\n",
    "1. Implement this. Apply it to different functions.\n",
    "\n",
    "\n",
    "2. How fast does the approximation improve as you take more sub-intervals?"
   ]
  },
  {
   "cell_type": "markdown",
   "metadata": {},
   "source": [
    "## Formatting"
   ]
  },
  {
   "cell_type": "markdown",
   "metadata": {},
   "source": [
    "The `@format` macro changes the way that intervals are displayed:"
   ]
  },
  {
   "cell_type": "code",
   "execution_count": null,
   "metadata": {},
   "outputs": [],
   "source": [
    "X = 0.1..0.3  # default is standard mode with 6 significant figures"
   ]
  },
  {
   "cell_type": "code",
   "execution_count": null,
   "metadata": {},
   "outputs": [],
   "source": [
    "@format midpoint 3"
   ]
  },
  {
   "cell_type": "code",
   "execution_count": null,
   "metadata": {},
   "outputs": [],
   "source": [
    "X"
   ]
  },
  {
   "cell_type": "code",
   "execution_count": null,
   "metadata": {},
   "outputs": [],
   "source": [
    "@format full"
   ]
  },
  {
   "cell_type": "code",
   "execution_count": null,
   "metadata": {},
   "outputs": [],
   "source": [
    "X"
   ]
  },
  {
   "cell_type": "code",
   "execution_count": null,
   "metadata": {},
   "outputs": [],
   "source": [
    "@format standard 10"
   ]
  },
  {
   "cell_type": "code",
   "execution_count": null,
   "metadata": {},
   "outputs": [],
   "source": [
    "X"
   ]
  },
  {
   "cell_type": "markdown",
   "metadata": {},
   "source": [
    "In standard mode the displayed result is always an *enclosure* of the interval.\n",
    "In `full` mode the floating-point endpoints are displayed using the usual Julia algorithm."
   ]
  },
  {
   "cell_type": "code",
   "execution_count": null,
   "metadata": {},
   "outputs": [],
   "source": []
  }
 ],
 "metadata": {
  "kernelspec": {
   "display_name": "Julia 1.5.0-beta1",
   "language": "julia",
   "name": "julia-1.5"
  },
  "language_info": {
   "file_extension": ".jl",
   "mimetype": "application/julia",
   "name": "julia",
   "version": "1.5.0"
  }
 },
 "nbformat": 4,
 "nbformat_minor": 4
}
